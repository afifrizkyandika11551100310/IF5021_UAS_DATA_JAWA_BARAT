{
  "nbformat": 4,
  "nbformat_minor": 0,
  "metadata": {
    "colab": {
      "name": "235231034_M Afif Rizky A.ipynb",
      "provenance": [],
      "authorship_tag": "ABX9TyOTAjdtf+iSFhM25j9+19XK",
      "include_colab_link": true
    },
    "kernelspec": {
      "name": "python3",
      "display_name": "Python 3"
    },
    "language_info": {
      "name": "python"
    }
  },
  "cells": [
    {
      "cell_type": "markdown",
      "metadata": {
        "id": "view-in-github",
        "colab_type": "text"
      },
      "source": [
        "<a href=\"https://colab.research.google.com/github/afifrizkyandika11551100310/IF5021_UAS_DATA_JAWA_BARAT/blob/main/235231034_M_Afif_Rizky_A.ipynb\" target=\"_parent\"><img src=\"https://colab.research.google.com/assets/colab-badge.svg\" alt=\"Open In Colab\"/></a>"
      ]
    },
    {
      "cell_type": "markdown",
      "source": [
        "# **Ujian Akhir Semester IF5021_23521034**"
      ],
      "metadata": {
        "id": "nSBjE-tSetjF"
      }
    },
    {
      "cell_type": "code",
      "execution_count": null,
      "metadata": {
        "id": "z1w5oM8bWjwU"
      },
      "outputs": [],
      "source": [
        "import pandas as pd\n",
        "import numpy as np \n",
        "import seaborn as sns\n",
        "from seaborn import heatmap\n",
        "import matplotlib.pyplot as plt\n",
        "from sklearn.model_selection import (train_test_split, StratifiedKFold)\n",
        "from sklearn.metrics import (confusion_matrix, classification_report, accuracy_score, recall_score, precision_score)"
      ]
    },
    {
      "cell_type": "markdown",
      "source": [
        "## Import Dataset"
      ],
      "metadata": {
        "id": "Ajf7mWnEiHDj"
      }
    },
    {
      "cell_type": "markdown",
      "source": [
        "dataset kemiskinan"
      ],
      "metadata": {
        "id": "GmaPTkitiJj6"
      }
    },
    {
      "cell_type": "code",
      "source": [
        "df1 = pd.read_csv('dataset_kemiskinan.csv')\n",
        "df1.head()"
      ],
      "metadata": {
        "colab": {
          "base_uri": "https://localhost:8080/",
          "height": 206
        },
        "id": "Bw90SaMwhgZr",
        "outputId": "a1ef6037-54d3-456e-923e-fab26ed5502c"
      },
      "execution_count": null,
      "outputs": [
        {
          "output_type": "execute_result",
          "data": {
            "text/html": [
              "<div>\n",
              "<style scoped>\n",
              "    .dataframe tbody tr th:only-of-type {\n",
              "        vertical-align: middle;\n",
              "    }\n",
              "\n",
              "    .dataframe tbody tr th {\n",
              "        vertical-align: top;\n",
              "    }\n",
              "\n",
              "    .dataframe thead th {\n",
              "        text-align: right;\n",
              "    }\n",
              "</style>\n",
              "<table border=\"1\" class=\"dataframe\">\n",
              "  <thead>\n",
              "    <tr style=\"text-align: right;\">\n",
              "      <th></th>\n",
              "      <th>id</th>\n",
              "      <th>kode_provinsi</th>\n",
              "      <th>nama_provinsi</th>\n",
              "      <th>kode_kabupaten_kota</th>\n",
              "      <th>nama_kabupaten_kota</th>\n",
              "      <th>persentase_penduduk</th>\n",
              "      <th>satuan</th>\n",
              "      <th>tahun</th>\n",
              "    </tr>\n",
              "  </thead>\n",
              "  <tbody>\n",
              "    <tr>\n",
              "      <th>0</th>\n",
              "      <td>1</td>\n",
              "      <td>32</td>\n",
              "      <td>JAWA BARAT</td>\n",
              "      <td>3201</td>\n",
              "      <td>KABUPATEN BOGOR</td>\n",
              "      <td>9.97</td>\n",
              "      <td>PERSEN</td>\n",
              "      <td>2010</td>\n",
              "    </tr>\n",
              "    <tr>\n",
              "      <th>1</th>\n",
              "      <td>2</td>\n",
              "      <td>32</td>\n",
              "      <td>JAWA BARAT</td>\n",
              "      <td>3202</td>\n",
              "      <td>KABUPATEN SUKABUMI</td>\n",
              "      <td>10.65</td>\n",
              "      <td>PERSEN</td>\n",
              "      <td>2010</td>\n",
              "    </tr>\n",
              "    <tr>\n",
              "      <th>2</th>\n",
              "      <td>3</td>\n",
              "      <td>32</td>\n",
              "      <td>JAWA BARAT</td>\n",
              "      <td>3203</td>\n",
              "      <td>KABUPATEN CIANJUR</td>\n",
              "      <td>14.32</td>\n",
              "      <td>PERSEN</td>\n",
              "      <td>2010</td>\n",
              "    </tr>\n",
              "    <tr>\n",
              "      <th>3</th>\n",
              "      <td>4</td>\n",
              "      <td>32</td>\n",
              "      <td>JAWA BARAT</td>\n",
              "      <td>3204</td>\n",
              "      <td>KABUPATEN BANDUNG</td>\n",
              "      <td>9.30</td>\n",
              "      <td>PERSEN</td>\n",
              "      <td>2010</td>\n",
              "    </tr>\n",
              "    <tr>\n",
              "      <th>4</th>\n",
              "      <td>5</td>\n",
              "      <td>32</td>\n",
              "      <td>JAWA BARAT</td>\n",
              "      <td>3205</td>\n",
              "      <td>KABUPATEN GARUT</td>\n",
              "      <td>13.94</td>\n",
              "      <td>PERSEN</td>\n",
              "      <td>2010</td>\n",
              "    </tr>\n",
              "  </tbody>\n",
              "</table>\n",
              "</div>"
            ],
            "text/plain": [
              "   id  kode_provinsi nama_provinsi  ...  persentase_penduduk  satuan  tahun\n",
              "0   1             32    JAWA BARAT  ...                 9.97  PERSEN   2010\n",
              "1   2             32    JAWA BARAT  ...                10.65  PERSEN   2010\n",
              "2   3             32    JAWA BARAT  ...                14.32  PERSEN   2010\n",
              "3   4             32    JAWA BARAT  ...                 9.30  PERSEN   2010\n",
              "4   5             32    JAWA BARAT  ...                13.94  PERSEN   2010\n",
              "\n",
              "[5 rows x 8 columns]"
            ]
          },
          "metadata": {},
          "execution_count": 8
        }
      ]
    },
    {
      "cell_type": "markdown",
      "source": [
        "dataset anemia"
      ],
      "metadata": {
        "id": "pzZZVBb3jVim"
      }
    },
    {
      "cell_type": "code",
      "source": [
        "df2 = pd.read_csv('dataset_anemia.csv')\n",
        "df2.head()"
      ],
      "metadata": {
        "colab": {
          "base_uri": "https://localhost:8080/",
          "height": 206
        },
        "id": "Ey3-3eDbh2WN",
        "outputId": "faf2c12f-c3a7-47f7-c4e2-82d398263daf"
      },
      "execution_count": null,
      "outputs": [
        {
          "output_type": "execute_result",
          "data": {
            "text/html": [
              "<div>\n",
              "<style scoped>\n",
              "    .dataframe tbody tr th:only-of-type {\n",
              "        vertical-align: middle;\n",
              "    }\n",
              "\n",
              "    .dataframe tbody tr th {\n",
              "        vertical-align: top;\n",
              "    }\n",
              "\n",
              "    .dataframe thead th {\n",
              "        text-align: right;\n",
              "    }\n",
              "</style>\n",
              "<table border=\"1\" class=\"dataframe\">\n",
              "  <thead>\n",
              "    <tr style=\"text-align: right;\">\n",
              "      <th></th>\n",
              "      <th>id</th>\n",
              "      <th>kode_provinsi</th>\n",
              "      <th>nama_provinsi</th>\n",
              "      <th>kode_kabupaten_kota</th>\n",
              "      <th>nama_kabupaten_kota</th>\n",
              "      <th>jumlah_ibu_hamil_anemia</th>\n",
              "      <th>satuan</th>\n",
              "      <th>tahun</th>\n",
              "    </tr>\n",
              "  </thead>\n",
              "  <tbody>\n",
              "    <tr>\n",
              "      <th>0</th>\n",
              "      <td>1</td>\n",
              "      <td>32</td>\n",
              "      <td>JAWA BARAT</td>\n",
              "      <td>3201</td>\n",
              "      <td>KABUPATEN BOGOR</td>\n",
              "      <td>7521</td>\n",
              "      <td>ORANG</td>\n",
              "      <td>2015</td>\n",
              "    </tr>\n",
              "    <tr>\n",
              "      <th>1</th>\n",
              "      <td>2</td>\n",
              "      <td>32</td>\n",
              "      <td>JAWA BARAT</td>\n",
              "      <td>3202</td>\n",
              "      <td>KABUPATEN SUKABUMI</td>\n",
              "      <td>3379</td>\n",
              "      <td>ORANG</td>\n",
              "      <td>2015</td>\n",
              "    </tr>\n",
              "    <tr>\n",
              "      <th>2</th>\n",
              "      <td>3</td>\n",
              "      <td>32</td>\n",
              "      <td>JAWA BARAT</td>\n",
              "      <td>3203</td>\n",
              "      <td>KABUPATEN CIANJUR</td>\n",
              "      <td>623</td>\n",
              "      <td>ORANG</td>\n",
              "      <td>2015</td>\n",
              "    </tr>\n",
              "    <tr>\n",
              "      <th>3</th>\n",
              "      <td>4</td>\n",
              "      <td>32</td>\n",
              "      <td>JAWA BARAT</td>\n",
              "      <td>3204</td>\n",
              "      <td>KABUPATEN BANDUNG</td>\n",
              "      <td>150</td>\n",
              "      <td>ORANG</td>\n",
              "      <td>2015</td>\n",
              "    </tr>\n",
              "    <tr>\n",
              "      <th>4</th>\n",
              "      <td>5</td>\n",
              "      <td>32</td>\n",
              "      <td>JAWA BARAT</td>\n",
              "      <td>3205</td>\n",
              "      <td>KABUPATEN GARUT</td>\n",
              "      <td>2280</td>\n",
              "      <td>ORANG</td>\n",
              "      <td>2015</td>\n",
              "    </tr>\n",
              "  </tbody>\n",
              "</table>\n",
              "</div>"
            ],
            "text/plain": [
              "   id  kode_provinsi nama_provinsi  ...  jumlah_ibu_hamil_anemia satuan  tahun\n",
              "0   1             32    JAWA BARAT  ...                     7521  ORANG   2015\n",
              "1   2             32    JAWA BARAT  ...                     3379  ORANG   2015\n",
              "2   3             32    JAWA BARAT  ...                      623  ORANG   2015\n",
              "3   4             32    JAWA BARAT  ...                      150  ORANG   2015\n",
              "4   5             32    JAWA BARAT  ...                     2280  ORANG   2015\n",
              "\n",
              "[5 rows x 8 columns]"
            ]
          },
          "metadata": {},
          "execution_count": 9
        }
      ]
    },
    {
      "cell_type": "markdown",
      "source": [
        "dataset pengangguran"
      ],
      "metadata": {
        "id": "4Z0BxW4rjdOA"
      }
    },
    {
      "cell_type": "code",
      "source": [
        "df3 = pd.read_csv('dataset_pengangguran.csv')\n",
        "df3.head()"
      ],
      "metadata": {
        "colab": {
          "base_uri": "https://localhost:8080/",
          "height": 206
        },
        "id": "yxsWBIHgjcaJ",
        "outputId": "34c6e07b-119d-479c-d091-5813796ebc09"
      },
      "execution_count": null,
      "outputs": [
        {
          "output_type": "execute_result",
          "data": {
            "text/html": [
              "<div>\n",
              "<style scoped>\n",
              "    .dataframe tbody tr th:only-of-type {\n",
              "        vertical-align: middle;\n",
              "    }\n",
              "\n",
              "    .dataframe tbody tr th {\n",
              "        vertical-align: top;\n",
              "    }\n",
              "\n",
              "    .dataframe thead th {\n",
              "        text-align: right;\n",
              "    }\n",
              "</style>\n",
              "<table border=\"1\" class=\"dataframe\">\n",
              "  <thead>\n",
              "    <tr style=\"text-align: right;\">\n",
              "      <th></th>\n",
              "      <th>id</th>\n",
              "      <th>kode_provinsi</th>\n",
              "      <th>nama_provinsi</th>\n",
              "      <th>kode_kabupaten_kota</th>\n",
              "      <th>nama_kabupaten_kota</th>\n",
              "      <th>persentase_tingkat_pengangguran_terbuka</th>\n",
              "      <th>satuan</th>\n",
              "      <th>tahun</th>\n",
              "    </tr>\n",
              "  </thead>\n",
              "  <tbody>\n",
              "    <tr>\n",
              "      <th>0</th>\n",
              "      <td>1</td>\n",
              "      <td>32</td>\n",
              "      <td>JAWA BARAT</td>\n",
              "      <td>3201</td>\n",
              "      <td>KABUPATEN BOGOR</td>\n",
              "      <td>7.87</td>\n",
              "      <td>PERSEN</td>\n",
              "      <td>2013</td>\n",
              "    </tr>\n",
              "    <tr>\n",
              "      <th>1</th>\n",
              "      <td>2</td>\n",
              "      <td>32</td>\n",
              "      <td>JAWA BARAT</td>\n",
              "      <td>3202</td>\n",
              "      <td>KABUPATEN SUKABUMI</td>\n",
              "      <td>10.38</td>\n",
              "      <td>PERSEN</td>\n",
              "      <td>2013</td>\n",
              "    </tr>\n",
              "    <tr>\n",
              "      <th>2</th>\n",
              "      <td>3</td>\n",
              "      <td>32</td>\n",
              "      <td>JAWA BARAT</td>\n",
              "      <td>3203</td>\n",
              "      <td>KABUPATEN CIANJUR</td>\n",
              "      <td>14.18</td>\n",
              "      <td>PERSEN</td>\n",
              "      <td>2013</td>\n",
              "    </tr>\n",
              "    <tr>\n",
              "      <th>3</th>\n",
              "      <td>4</td>\n",
              "      <td>32</td>\n",
              "      <td>JAWA BARAT</td>\n",
              "      <td>3204</td>\n",
              "      <td>KABUPATEN BANDUNG</td>\n",
              "      <td>10.12</td>\n",
              "      <td>PERSEN</td>\n",
              "      <td>2013</td>\n",
              "    </tr>\n",
              "    <tr>\n",
              "      <th>4</th>\n",
              "      <td>5</td>\n",
              "      <td>32</td>\n",
              "      <td>JAWA BARAT</td>\n",
              "      <td>3205</td>\n",
              "      <td>KABUPATEN GARUT</td>\n",
              "      <td>8.14</td>\n",
              "      <td>PERSEN</td>\n",
              "      <td>2013</td>\n",
              "    </tr>\n",
              "  </tbody>\n",
              "</table>\n",
              "</div>"
            ],
            "text/plain": [
              "   id  kode_provinsi  ...  satuan  tahun\n",
              "0   1             32  ...  PERSEN   2013\n",
              "1   2             32  ...  PERSEN   2013\n",
              "2   3             32  ...  PERSEN   2013\n",
              "3   4             32  ...  PERSEN   2013\n",
              "4   5             32  ...  PERSEN   2013\n",
              "\n",
              "[5 rows x 8 columns]"
            ]
          },
          "metadata": {},
          "execution_count": 10
        }
      ]
    },
    {
      "cell_type": "markdown",
      "source": [
        "dataset index kesehatan"
      ],
      "metadata": {
        "id": "pAoGDDw-jj8N"
      }
    },
    {
      "cell_type": "code",
      "source": [
        "df4 = pd.read_csv('dataset_indexKesehatan.csv')\n",
        "df4.head()"
      ],
      "metadata": {
        "colab": {
          "base_uri": "https://localhost:8080/",
          "height": 206
        },
        "id": "79ptKolfjjAi",
        "outputId": "27dff3a0-e0af-4040-9bcb-b5b03b4dfe1b"
      },
      "execution_count": null,
      "outputs": [
        {
          "output_type": "execute_result",
          "data": {
            "text/html": [
              "<div>\n",
              "<style scoped>\n",
              "    .dataframe tbody tr th:only-of-type {\n",
              "        vertical-align: middle;\n",
              "    }\n",
              "\n",
              "    .dataframe tbody tr th {\n",
              "        vertical-align: top;\n",
              "    }\n",
              "\n",
              "    .dataframe thead th {\n",
              "        text-align: right;\n",
              "    }\n",
              "</style>\n",
              "<table border=\"1\" class=\"dataframe\">\n",
              "  <thead>\n",
              "    <tr style=\"text-align: right;\">\n",
              "      <th></th>\n",
              "      <th>id</th>\n",
              "      <th>kode_provinsi</th>\n",
              "      <th>nama_provinsi</th>\n",
              "      <th>kode_kabupaten_kota</th>\n",
              "      <th>nama_kabupaten_kota</th>\n",
              "      <th>indeks_kesehatan</th>\n",
              "      <th>satuan</th>\n",
              "      <th>tahun</th>\n",
              "    </tr>\n",
              "  </thead>\n",
              "  <tbody>\n",
              "    <tr>\n",
              "      <th>0</th>\n",
              "      <td>1</td>\n",
              "      <td>32</td>\n",
              "      <td>JAWA BARAT</td>\n",
              "      <td>3201</td>\n",
              "      <td>KABUPATEN BOGOR</td>\n",
              "      <td>77.43</td>\n",
              "      <td>POIN</td>\n",
              "      <td>2010</td>\n",
              "    </tr>\n",
              "    <tr>\n",
              "      <th>1</th>\n",
              "      <td>2</td>\n",
              "      <td>32</td>\n",
              "      <td>JAWA BARAT</td>\n",
              "      <td>3202</td>\n",
              "      <td>KABUPATEN SUKABUMI</td>\n",
              "      <td>76.10</td>\n",
              "      <td>POIN</td>\n",
              "      <td>2010</td>\n",
              "    </tr>\n",
              "    <tr>\n",
              "      <th>2</th>\n",
              "      <td>3</td>\n",
              "      <td>32</td>\n",
              "      <td>JAWA BARAT</td>\n",
              "      <td>3203</td>\n",
              "      <td>KABUPATEN CIANJUR</td>\n",
              "      <td>75.02</td>\n",
              "      <td>POIN</td>\n",
              "      <td>2010</td>\n",
              "    </tr>\n",
              "    <tr>\n",
              "      <th>3</th>\n",
              "      <td>4</td>\n",
              "      <td>32</td>\n",
              "      <td>JAWA BARAT</td>\n",
              "      <td>3204</td>\n",
              "      <td>KABUPATEN BANDUNG</td>\n",
              "      <td>81.44</td>\n",
              "      <td>POIN</td>\n",
              "      <td>2010</td>\n",
              "    </tr>\n",
              "    <tr>\n",
              "      <th>4</th>\n",
              "      <td>5</td>\n",
              "      <td>32</td>\n",
              "      <td>JAWA BARAT</td>\n",
              "      <td>3205</td>\n",
              "      <td>KABUPATEN GARUT</td>\n",
              "      <td>77.44</td>\n",
              "      <td>POIN</td>\n",
              "      <td>2010</td>\n",
              "    </tr>\n",
              "  </tbody>\n",
              "</table>\n",
              "</div>"
            ],
            "text/plain": [
              "   id  kode_provinsi nama_provinsi  ...  indeks_kesehatan satuan  tahun\n",
              "0   1             32    JAWA BARAT  ...             77.43   POIN   2010\n",
              "1   2             32    JAWA BARAT  ...             76.10   POIN   2010\n",
              "2   3             32    JAWA BARAT  ...             75.02   POIN   2010\n",
              "3   4             32    JAWA BARAT  ...             81.44   POIN   2010\n",
              "4   5             32    JAWA BARAT  ...             77.44   POIN   2010\n",
              "\n",
              "[5 rows x 8 columns]"
            ]
          },
          "metadata": {},
          "execution_count": 11
        }
      ]
    },
    {
      "cell_type": "markdown",
      "source": [
        "## Preprocessing dataset"
      ],
      "metadata": {
        "id": "KEjddSt8jt2I"
      }
    },
    {
      "cell_type": "code",
      "source": [
        "new_df1 = df1.drop(columns = ['id', 'kode_provinsi', 'nama_provinsi', 'satuan'])\n",
        "new_df2 = df2.drop(columns = ['id', 'kode_provinsi', 'nama_provinsi', 'satuan'])\n",
        "new_df3 = df3.drop(columns = ['id', 'kode_provinsi', 'nama_provinsi', 'satuan'])\n",
        "new_df4 = df4.drop(columns = ['id', 'kode_provinsi', 'nama_provinsi', 'satuan'])"
      ],
      "metadata": {
        "id": "Abb8kr2YjsQJ"
      },
      "execution_count": null,
      "outputs": []
    },
    {
      "cell_type": "markdown",
      "source": [
        "sample new dataset"
      ],
      "metadata": {
        "id": "Kbv6MsZukiGX"
      }
    },
    {
      "cell_type": "code",
      "source": [
        "# sample\n",
        "new_df1.head(2)"
      ],
      "metadata": {
        "colab": {
          "base_uri": "https://localhost:8080/",
          "height": 112
        },
        "id": "7S3SRKv7kg2g",
        "outputId": "95bdb359-c66f-4f1b-8335-a9ff9dc5bbed"
      },
      "execution_count": null,
      "outputs": [
        {
          "output_type": "execute_result",
          "data": {
            "text/html": [
              "<div>\n",
              "<style scoped>\n",
              "    .dataframe tbody tr th:only-of-type {\n",
              "        vertical-align: middle;\n",
              "    }\n",
              "\n",
              "    .dataframe tbody tr th {\n",
              "        vertical-align: top;\n",
              "    }\n",
              "\n",
              "    .dataframe thead th {\n",
              "        text-align: right;\n",
              "    }\n",
              "</style>\n",
              "<table border=\"1\" class=\"dataframe\">\n",
              "  <thead>\n",
              "    <tr style=\"text-align: right;\">\n",
              "      <th></th>\n",
              "      <th>kode_kabupaten_kota</th>\n",
              "      <th>nama_kabupaten_kota</th>\n",
              "      <th>persentase_penduduk</th>\n",
              "      <th>tahun</th>\n",
              "    </tr>\n",
              "  </thead>\n",
              "  <tbody>\n",
              "    <tr>\n",
              "      <th>0</th>\n",
              "      <td>3201</td>\n",
              "      <td>KABUPATEN BOGOR</td>\n",
              "      <td>9.97</td>\n",
              "      <td>2010</td>\n",
              "    </tr>\n",
              "    <tr>\n",
              "      <th>1</th>\n",
              "      <td>3202</td>\n",
              "      <td>KABUPATEN SUKABUMI</td>\n",
              "      <td>10.65</td>\n",
              "      <td>2010</td>\n",
              "    </tr>\n",
              "  </tbody>\n",
              "</table>\n",
              "</div>"
            ],
            "text/plain": [
              "   kode_kabupaten_kota nama_kabupaten_kota  persentase_penduduk  tahun\n",
              "0                 3201     KABUPATEN BOGOR                 9.97   2010\n",
              "1                 3202  KABUPATEN SUKABUMI                10.65   2010"
            ]
          },
          "metadata": {},
          "execution_count": 13
        }
      ]
    },
    {
      "cell_type": "code",
      "source": [
        "# check dimension\n",
        "new_df1.shape"
      ],
      "metadata": {
        "colab": {
          "base_uri": "https://localhost:8080/"
        },
        "id": "Qlkn0M8llpLr",
        "outputId": "726b0d25-3e92-4fb0-bca1-971de7315a1a"
      },
      "execution_count": null,
      "outputs": [
        {
          "output_type": "execute_result",
          "data": {
            "text/plain": [
              "(292, 4)"
            ]
          },
          "metadata": {},
          "execution_count": 14
        }
      ]
    },
    {
      "cell_type": "markdown",
      "source": [
        "## Merge Dataset"
      ],
      "metadata": {
        "id": "yx6-5gb2kwQr"
      }
    },
    {
      "cell_type": "code",
      "source": [
        "full_dataset = new_df1.merge(new_df2, how='left').merge(new_df3, how = 'left').merge(new_df4, how = 'left')\n",
        "full_dataset.tail()"
      ],
      "metadata": {
        "colab": {
          "base_uri": "https://localhost:8080/",
          "height": 226
        },
        "id": "AZ4z3u7PkkMF",
        "outputId": "0ebed988-9913-44e4-b148-73bbf8954315"
      },
      "execution_count": null,
      "outputs": [
        {
          "output_type": "execute_result",
          "data": {
            "text/html": [
              "<div>\n",
              "<style scoped>\n",
              "    .dataframe tbody tr th:only-of-type {\n",
              "        vertical-align: middle;\n",
              "    }\n",
              "\n",
              "    .dataframe tbody tr th {\n",
              "        vertical-align: top;\n",
              "    }\n",
              "\n",
              "    .dataframe thead th {\n",
              "        text-align: right;\n",
              "    }\n",
              "</style>\n",
              "<table border=\"1\" class=\"dataframe\">\n",
              "  <thead>\n",
              "    <tr style=\"text-align: right;\">\n",
              "      <th></th>\n",
              "      <th>kode_kabupaten_kota</th>\n",
              "      <th>nama_kabupaten_kota</th>\n",
              "      <th>persentase_penduduk</th>\n",
              "      <th>tahun</th>\n",
              "      <th>jumlah_ibu_hamil_anemia</th>\n",
              "      <th>persentase_tingkat_pengangguran_terbuka</th>\n",
              "      <th>indeks_kesehatan</th>\n",
              "    </tr>\n",
              "  </thead>\n",
              "  <tbody>\n",
              "    <tr>\n",
              "      <th>287</th>\n",
              "      <td>3275</td>\n",
              "      <td>KOTA BEKASI</td>\n",
              "      <td>4.38</td>\n",
              "      <td>2020</td>\n",
              "      <td>1614.0</td>\n",
              "      <td>10.68</td>\n",
              "      <td>84.6</td>\n",
              "    </tr>\n",
              "    <tr>\n",
              "      <th>288</th>\n",
              "      <td>3276</td>\n",
              "      <td>KOTA DEPOK</td>\n",
              "      <td>2.45</td>\n",
              "      <td>2020</td>\n",
              "      <td>3496.0</td>\n",
              "      <td>9.87</td>\n",
              "      <td>83.8</td>\n",
              "    </tr>\n",
              "    <tr>\n",
              "      <th>289</th>\n",
              "      <td>3277</td>\n",
              "      <td>KOTA CIMAHI</td>\n",
              "      <td>5.11</td>\n",
              "      <td>2020</td>\n",
              "      <td>332.0</td>\n",
              "      <td>13.30</td>\n",
              "      <td>83.1</td>\n",
              "    </tr>\n",
              "    <tr>\n",
              "      <th>290</th>\n",
              "      <td>3278</td>\n",
              "      <td>KOTA TASIKMALAYA</td>\n",
              "      <td>12.97</td>\n",
              "      <td>2020</td>\n",
              "      <td>1265.0</td>\n",
              "      <td>7.99</td>\n",
              "      <td>80.2</td>\n",
              "    </tr>\n",
              "    <tr>\n",
              "      <th>291</th>\n",
              "      <td>3279</td>\n",
              "      <td>KOTA BANJAR</td>\n",
              "      <td>6.09</td>\n",
              "      <td>2020</td>\n",
              "      <td>578.0</td>\n",
              "      <td>6.73</td>\n",
              "      <td>78.4</td>\n",
              "    </tr>\n",
              "  </tbody>\n",
              "</table>\n",
              "</div>"
            ],
            "text/plain": [
              "     kode_kabupaten_kota  ... indeks_kesehatan\n",
              "287                 3275  ...             84.6\n",
              "288                 3276  ...             83.8\n",
              "289                 3277  ...             83.1\n",
              "290                 3278  ...             80.2\n",
              "291                 3279  ...             78.4\n",
              "\n",
              "[5 rows x 7 columns]"
            ]
          },
          "metadata": {},
          "execution_count": 15
        }
      ]
    },
    {
      "cell_type": "markdown",
      "source": [
        "## Visualization"
      ],
      "metadata": {
        "id": "bpNtHsk5lx4T"
      }
    },
    {
      "cell_type": "markdown",
      "source": [
        "**berikut akan ditampilkan beberapa visualisasi yang melibatkan data yang sudah dipreprocessing diatas**"
      ],
      "metadata": {
        "id": "BmEW25oKl0ws"
      }
    },
    {
      "cell_type": "markdown",
      "source": [
        "### **1. Visualisasikan berapa banyak data kosong yang terdapat pada data diatas**"
      ],
      "metadata": {
        "id": "hKHM9l8BmA1d"
      }
    },
    {
      "cell_type": "markdown",
      "source": [
        "untuk melakukan visualisasi data yang kosong dapat menggunakan library missingNo sehingga dapat digambarkan secara jelas berapa banyak missing value yang terdapat pada data diatas"
      ],
      "metadata": {
        "id": "En2JZQMumQAc"
      }
    },
    {
      "cell_type": "code",
      "source": [
        "import missingno as msno\n",
        "ax = msno.matrix(full_dataset)\n",
        "ax\n",
        "print(full_dataset.isnull().sum())"
      ],
      "metadata": {
        "colab": {
          "base_uri": "https://localhost:8080/",
          "height": 791
        },
        "id": "vrFhxGZTlSQT",
        "outputId": "4e00b718-2ce9-4742-e2f5-629f02345c1e"
      },
      "execution_count": null,
      "outputs": [
        {
          "output_type": "stream",
          "name": "stdout",
          "text": [
            "kode_kabupaten_kota                          0\n",
            "nama_kabupaten_kota                          0\n",
            "persentase_penduduk                          0\n",
            "tahun                                        0\n",
            "jumlah_ibu_hamil_anemia                    130\n",
            "persentase_tingkat_pengangguran_terbuka    105\n",
            "indeks_kesehatan                             0\n",
            "dtype: int64\n"
          ]
        },
        {
          "output_type": "display_data",
          "data": {
            "image/png": "[encoded data removed]",
            "text/plain": [
              "<Figure size 1800x720 with 2 Axes>"
            ]
          },
          "metadata": {
            "needs_background": "light"
          }
        }
      ]
    },
    {
      "cell_type": "markdown",
      "source": [
        "terlihat pada gambar diatas bahwa terdapat missing value yang cukup signifikan pada feature jumlah ibu hamil (130 missing value) dan persentase tingkat pengangguran terbuka (105 missing value) pada tahun tertentu hal ini disebabkan merge yang dilakukan pada dataset menggunakan keys pada dataset sebelah kiri"
      ],
      "metadata": {
        "id": "x6wd1LE_m_OX"
      }
    },
    {
      "cell_type": "markdown",
      "source": [
        "### **2. Gambarkan korelasi dari masing - masing feature diatas**"
      ],
      "metadata": {
        "id": "yDNFfqa3nqbo"
      }
    },
    {
      "cell_type": "code",
      "source": [
        "full_dataset.info()"
      ],
      "metadata": {
        "colab": {
          "base_uri": "https://localhost:8080/"
        },
        "id": "9_Koa3TDoQbj",
        "outputId": "53dd5c62-6c93-4afe-f303-26bcdbb80df7"
      },
      "execution_count": null,
      "outputs": [
        {
          "output_type": "stream",
          "name": "stdout",
          "text": [
            "<class 'pandas.core.frame.DataFrame'>\n",
            "Int64Index: 292 entries, 0 to 291\n",
            "Data columns (total 7 columns):\n",
            " #   Column                                   Non-Null Count  Dtype  \n",
            "---  ------                                   --------------  -----  \n",
            " 0   kode_kabupaten_kota                      292 non-null    int64  \n",
            " 1   nama_kabupaten_kota                      292 non-null    object \n",
            " 2   persentase_penduduk                      292 non-null    float64\n",
            " 3   tahun                                    292 non-null    int64  \n",
            " 4   jumlah_ibu_hamil_anemia                  162 non-null    float64\n",
            " 5   persentase_tingkat_pengangguran_terbuka  187 non-null    float64\n",
            " 6   indeks_kesehatan                         292 non-null    float64\n",
            "dtypes: float64(4), int64(2), object(1)\n",
            "memory usage: 18.2+ KB\n"
          ]
        }
      ]
    },
    {
      "cell_type": "code",
      "source": [
        "set_correlation = full_dataset[['persentase_penduduk', 'jumlah_ibu_hamil_anemia', 'persentase_tingkat_pengangguran_terbuka', 'indeks_kesehatan']]"
      ],
      "metadata": {
        "id": "AcePIPxgmvl6"
      },
      "execution_count": null,
      "outputs": []
    },
    {
      "cell_type": "code",
      "source": [
        "fig, ax  = plt.subplots(figsize = (6,6))\n",
        "ax = heatmap(set_correlation.corr(),fmt = '.2f', annot=True, ax=ax, cmap='RdBu_r', vmin=-1, vmax=1).set(title = 'data_correlation')"
      ],
      "metadata": {
        "colab": {
          "base_uri": "https://localhost:8080/",
          "height": 598
        },
        "id": "TKFIyPLxoh6f",
        "outputId": "87b7b43e-1ea7-42fc-e59d-212227e58c32"
      },
      "execution_count": null,
      "outputs": [
        {
          "output_type": "display_data",
          "data": {
            "image/png": "[encoded data removed]",
            "text/plain": [
              "<Figure size 432x432 with 2 Axes>"
            ]
          },
          "metadata": {
            "needs_background": "light"
          }
        }
      ]
    },
    {
      "cell_type": "markdown",
      "source": [
        "dapat dilihat pada hasil diatas bahwa terdapat feature yang berkorelasi:\n",
        " * **positif kuat** (contoh: persentase penduduk miskin dengan jumlah ibu hamil) menandakan bahwa ketika penduduk miskin bertambah banyak maka, jumlah ibu hamil dengan kondisi anemia akan bertambah banyak \n",
        " * **negatif kuat** (contoh: persentase penduduk miskin dengan index kesehatan) manandakan bahwa ketika jumlah penduduk miskin berkurang maka index kesehatan juga ikut berkurang/semakin banyak orang yang tidak sehat\n",
        " * **non-correlation** ini bisa diasumsikan korelasi masing - masing feature adalah 0 atau mendekati 0 (contoh: index pengangguran dan persentase ibu hamil kondisi anemia) menandakan bahwa hampir tidak ada korelasi bahwa semakin banyak atau semakin sedikit pengangguran mempengaruhi persentase ibu hamil dengan kondisi amenia"
      ],
      "metadata": {
        "id": "KYnsr0dNo51b"
      }
    },
    {
      "cell_type": "markdown",
      "source": [
        "### **3. Visualisasikan jumlah index pengangguran setiap tahun**"
      ],
      "metadata": {
        "id": "4IVD4KeJqXT2"
      }
    },
    {
      "cell_type": "code",
      "source": [
        "full_dataset.head(2)"
      ],
      "metadata": {
        "colab": {
          "base_uri": "https://localhost:8080/",
          "height": 150
        },
        "id": "GXQIqyNNquUz",
        "outputId": "c8e70866-d55f-408f-a2fb-d2be1e817f10"
      },
      "execution_count": null,
      "outputs": [
        {
          "output_type": "execute_result",
          "data": {
            "text/html": [
              "<div>\n",
              "<style scoped>\n",
              "    .dataframe tbody tr th:only-of-type {\n",
              "        vertical-align: middle;\n",
              "    }\n",
              "\n",
              "    .dataframe tbody tr th {\n",
              "        vertical-align: top;\n",
              "    }\n",
              "\n",
              "    .dataframe thead th {\n",
              "        text-align: right;\n",
              "    }\n",
              "</style>\n",
              "<table border=\"1\" class=\"dataframe\">\n",
              "  <thead>\n",
              "    <tr style=\"text-align: right;\">\n",
              "      <th></th>\n",
              "      <th>kode_kabupaten_kota</th>\n",
              "      <th>nama_kabupaten_kota</th>\n",
              "      <th>persentase_penduduk</th>\n",
              "      <th>tahun</th>\n",
              "      <th>jumlah_ibu_hamil_anemia</th>\n",
              "      <th>persentase_tingkat_pengangguran_terbuka</th>\n",
              "      <th>indeks_kesehatan</th>\n",
              "    </tr>\n",
              "  </thead>\n",
              "  <tbody>\n",
              "    <tr>\n",
              "      <th>0</th>\n",
              "      <td>3201</td>\n",
              "      <td>KABUPATEN BOGOR</td>\n",
              "      <td>9.97</td>\n",
              "      <td>2010</td>\n",
              "      <td>NaN</td>\n",
              "      <td>NaN</td>\n",
              "      <td>77.43</td>\n",
              "    </tr>\n",
              "    <tr>\n",
              "      <th>1</th>\n",
              "      <td>3202</td>\n",
              "      <td>KABUPATEN SUKABUMI</td>\n",
              "      <td>10.65</td>\n",
              "      <td>2010</td>\n",
              "      <td>NaN</td>\n",
              "      <td>NaN</td>\n",
              "      <td>76.10</td>\n",
              "    </tr>\n",
              "  </tbody>\n",
              "</table>\n",
              "</div>"
            ],
            "text/plain": [
              "   kode_kabupaten_kota  ... indeks_kesehatan\n",
              "0                 3201  ...            77.43\n",
              "1                 3202  ...            76.10\n",
              "\n",
              "[2 rows x 7 columns]"
            ]
          },
          "metadata": {},
          "execution_count": 20
        }
      ]
    },
    {
      "cell_type": "code",
      "source": [
        "ax = sns.catplot(x=\"tahun\", \n",
        "                 y=\"persentase_tingkat_pengangguran_terbuka\", \n",
        "                 data=full_dataset,  \n",
        "                 palette=\"Blues_d\", \n",
        "                 height=7, \n",
        "                 aspect=1.8, \n",
        "                 kind=\"bar\").set(title ='Index Penangguran Setiap Tahun')"
      ],
      "metadata": {
        "colab": {
          "base_uri": "https://localhost:8080/",
          "height": 529
        },
        "id": "b-x7XuSEoxCO",
        "outputId": "214191f6-7e7e-443d-e658-a0e590de75cd"
      },
      "execution_count": null,
      "outputs": [
        {
          "output_type": "display_data",
          "data": {
            "image/png": "[encoded data removed]",
            "text/plain": [
              "<Figure size 907.2x504 with 1 Axes>"
            ]
          },
          "metadata": {
            "needs_background": "light"
          }
        }
      ]
    },
    {
      "cell_type": "markdown",
      "source": [
        "berdasarkan hasil diatas dapat dilihat bahwa pada tahun 2020 terdapat pengangguran yang sangat tinggi dibandingkan dengan tahun - tahun lainnya sedangkan tingkat penangguran paling rendah terdapat pada tahun 2017"
      ],
      "metadata": {
        "id": "AKoUFlMZrJ1V"
      }
    },
    {
      "cell_type": "markdown",
      "source": [
        "### 4. Visualisasi kabupaten dengan index penagguran terendah"
      ],
      "metadata": {
        "id": "onnZYNjRrepe"
      }
    },
    {
      "cell_type": "code",
      "source": [
        "terendah = full_dataset.sort_values(by = 'persentase_tingkat_pengangguran_terbuka', ascending=True).head(25)"
      ],
      "metadata": {
        "id": "bNzaz1i1q9H2"
      },
      "execution_count": null,
      "outputs": []
    },
    {
      "cell_type": "code",
      "source": [
        " ax = sns.catplot(x=\"nama_kabupaten_kota\", \n",
        "                 y=\"persentase_tingkat_pengangguran_terbuka\", \n",
        "                 data=terendah,\n",
        "                 palette=\"Blues_d\", \n",
        "                 height=7, \n",
        "                 aspect=1.8, \n",
        "                 kind=\"bar\").set(title ='Kabupaten dengan index pengangguran')"
      ],
      "metadata": {
        "colab": {
          "base_uri": "https://localhost:8080/",
          "height": 529
        },
        "id": "g5w_cdUSr1aG",
        "outputId": "b451af3d-7bc1-49c2-8cfe-9ac042f6c005"
      },
      "execution_count": null,
      "outputs": [
        {
          "output_type": "display_data",
          "data": {
            "image/png": "[encoded data removed]",
            "text/plain": [
              "<Figure size 907.2x504 with 1 Axes>"
            ]
          },
          "metadata": {
            "needs_background": "light"
          }
        }
      ]
    },
    {
      "cell_type": "markdown",
      "source": [
        "dapat dilihat pada hasil diatas menunjukkan bahwa kabupaten pananggaran memiliki index prestasi pengangguran paling rendah dibandingkan kabupaten kabupaten lainnya"
      ],
      "metadata": {
        "id": "7ETdknWdswVy"
      }
    },
    {
      "cell_type": "code",
      "source": [
        ""
      ],
      "metadata": {
        "id": "aI40KWy2sM0I"
      },
      "execution_count": null,
      "outputs": []
    }
  ]
}